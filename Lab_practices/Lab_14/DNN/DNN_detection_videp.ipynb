{
 "cells": [
  {
   "cell_type": "markdown",
   "metadata": {},
   "source": [
    "## Detección de objetos en vídeos con OpenCV DNN "
   ]
  },
  {
   "cell_type": "code",
   "execution_count": 6,
   "metadata": {},
   "outputs": [],
   "source": [
    "#Librerias necesarias para el procesamiento de video\n",
    "import cv2\n",
    "import numpy as np\n",
    "import time"
   ]
  },
  {
   "cell_type": "markdown",
   "metadata": {},
   "source": [
    "**Predicción sobre fotogramas de video**"
   ]
  },
  {
   "cell_type": "code",
   "execution_count": 7,
   "metadata": {},
   "outputs": [],
   "source": [
    "# Cargar los nombres de las clases COCO\n",
    "with open('input/object_detection_classes_coco.txt', 'r') as f:\n",
    "   class_names = f.read().split('\\n')\n",
    " \n",
    "# Obtener una matriz de colores diferente para cada una de las clases\n",
    "COLORS = np.random.uniform(0, 255, size=(len(class_names), 3))\n",
    " \n",
    "# Cargar el modelo DNN\n",
    "model = cv2.dnn.readNet(model='input/frozen_inference_graph.pb',\n",
    "                        config='input/ssd_mobilenet_v2_coco_2018_03_29.pbtxt.txt',framework='TensorFlow')\n",
    " \n",
    "# Capturar el vídeo\n",
    "cap = cv2.VideoCapture('input/video_1.mp4')\n",
    "\n",
    "# Obtener la anchura y la altura de los fotogramas de vídeo para guardar correctamente los vídeos\n",
    "frame_width = int(cap.get(3))\n",
    "frame_height = int(cap.get(4))\n",
    "\n",
    "# Crear el objeto `VideoWriter()`.\n",
    "out = cv2.VideoWriter('video/video_result.mp4', cv2.VideoWriter_fourcc(*'mp4v'), 30, (frame_width, frame_height))"
   ]
  },
  {
   "cell_type": "markdown",
   "metadata": {},
   "source": [
    "**Recorrido en bucle por los fotogramas de vídeo y detección de objetos en cada uno de ellos**"
   ]
  },
  {
   "cell_type": "code",
   "execution_count": 8,
   "metadata": {},
   "outputs": [],
   "source": [
    "# Detectar objetos en cada fotograma del vídeo\n",
    "while cap.isOpened():\n",
    "   ret, frame = cap.read()\n",
    "   if ret:\n",
    "       image = frame\n",
    "       image_height, image_width, _ = image.shape\n",
    "       \n",
    "       # Crear una mancha a partir de una imagen\n",
    "       blob = cv2.dnn.blobFromImage(image=image, size=(300, 300), mean=(104, 117, 123), swapRB=True)\n",
    "      \n",
    "      # hora de inicio para calcular los FPS\n",
    "       start = time.time()\n",
    "       model.setInput(blob)\n",
    "       output = model.forward()       \n",
    "       \n",
    "       # Tiempo de finalización después de la detección\n",
    "       end = time.time()\n",
    "       \n",
    "       # Calcular los FPS para la detección de fotogramas actual\n",
    "       fps = 1 / (end-start)\n",
    "       \n",
    "       # bucle sobre cada una de las detecciones\n",
    "       for detection in output[0, 0, :, :]:\n",
    "           \n",
    "           # extract the confidence of the detection\n",
    "           confidence = detection[2]\n",
    "          \n",
    "           # draw bounding boxes only if the detection confidence is above...\n",
    "           # ... a certain threshold, else skip\n",
    "           if confidence > .4:\n",
    "               \n",
    "               # get the class id\n",
    "               class_id = detection[1]\n",
    "              \n",
    "               # map the class id to the class\n",
    "               class_name = class_names[int(class_id)-1]\n",
    "               color = COLORS[int(class_id)]\n",
    "              \n",
    "               # get the bounding box coordinates\n",
    "               box_x = detection[3] * image_width\n",
    "               box_y = detection[4] * image_height\n",
    "               \n",
    "               # get the bounding box width and height\n",
    "               box_width = detection[5] * image_width\n",
    "               box_height = detection[6] * image_height\n",
    "               \n",
    "               # draw a rectangle around each detected object\n",
    "               cv2.rectangle(image, (int(box_x), int(box_y)), (int(box_width), int(box_height)), color, thickness=2)\n",
    "              \n",
    "               # put the class name text on the detected object\n",
    "               cv2.putText(image, class_name, (int(box_x), int(box_y - 5)), cv2.FONT_HERSHEY_SIMPLEX, 1, color, 2)\n",
    "               \n",
    "               # put the FPS text on top of the frame\n",
    "               cv2.putText(image, f\"{fps:.2f} FPS\", (20, 30), cv2.FONT_HERSHEY_SIMPLEX, 1, (0, 255, 0), 2)\n",
    "      \n",
    "       cv2.imshow('image', image)\n",
    "       out.write(image)\n",
    "       if cv2.waitKey(10) & 0xFF == ord('q'):\n",
    "           break\n",
    "   else:\n",
    "       break\n",
    " \n",
    "cap.release()\n",
    "cv2.destroyAllWindows()"
   ]
  }
 ],
 "metadata": {
  "kernelspec": {
   "display_name": "Python 3.9.12 ('base')",
   "language": "python",
   "name": "python3"
  },
  "language_info": {
   "codemirror_mode": {
    "name": "ipython",
    "version": 3
   },
   "file_extension": ".py",
   "mimetype": "text/x-python",
   "name": "python",
   "nbconvert_exporter": "python",
   "pygments_lexer": "ipython3",
   "version": "3.9.12"
  },
  "orig_nbformat": 4,
  "vscode": {
   "interpreter": {
    "hash": "ad2bdc8ecc057115af97d19610ffacc2b4e99fae6737bb82f5d7fb13d2f2c186"
   }
  }
 },
 "nbformat": 4,
 "nbformat_minor": 2
}
